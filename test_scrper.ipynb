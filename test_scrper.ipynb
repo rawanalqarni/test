{
 "cells": [
  {
   "cell_type": "code",
   "execution_count": null,
   "metadata": {},
   "outputs": [],
   "source": [
    "#! pip install html \n",
    "#! pip install requests \n",
    "#! pip install lxml"
   ]
  },
  {
   "cell_type": "code",
   "execution_count": 2,
   "metadata": {},
   "outputs": [
    {
     "name": "stderr",
     "output_type": "stream",
     "text": [
      "C:\\Users\\hmq4\\AppData\\Local\\Temp\\ipykernel_5928\\2772346979.py:9: DeprecationWarning: executable_path has been deprecated, please pass in a Service object\n",
      "  driver = webdriver.Chrome(path)\n"
     ]
    },
    {
     "name": "stdout",
     "output_type": "stream",
     "text": [
      "['https://www.goldenscent.com/en/p/maqam-maqam-al-shoyoukh-edp-120-ml-57043.html?action=prod&id=57043', 'https://www.goldenscent.com/en/p/guerlain-santal-royal-guerlain-perfume-for-men-and-women-eau-de-perfum.html?action=prod&id=5613', 'https://www.goldenscent.com/en/p/tom-ford-noir-extreme.html?action=prod&id=5493', 'https://www.goldenscent.com/en/p/chopard-happy-spirit.html?action=prod&id=1668', 'https://www.goldenscent.com/en/p/parfum-de-marly-delina-hair-mist-for-women-29138.html?action=prod&id=29138', 'https://www.goldenscent.com/en/p/ajmal-raindrops-perfume-eau-de-perfume-for-women.html?action=prod&id=19259', 'https://www.goldenscent.com/en/p/calvin-klein-euphoria-men-intense.html?action=prod&id=750', 'https://www.goldenscent.com/en/p/dolce-gabbana-pour-femme-intense-eau-de-parfum-for-women.html?action=prod&id=777', 'https://www.goldenscent.com/en/p/roberto-cavalli-roberto-cavalli-eau-de-parfum-for-women.html?action=prod&id=866', 'https://www.goldenscent.com/en/p/who-am-i-just-fly-eau-de-for-men-and-women-27945.html?action=prod&id=27945', 'https://www.goldenscent.com/en/p/jaguar-classic-black.html?action=prod&id=2236', 'https://www.goldenscent.com/en/p/dolce-gabbana-the-one-mysterious-night-eau-de-parfum-for-men.html?action=prod&id=9796', 'https://www.goldenscent.com/en/p/chopard-oud-malaki-perfume-for-women-and-men-eau-de-parfum.html?action=prod&id=2857', 'https://www.goldenscent.com/en/p/lacoste-eau-de-lacoste-l-12-12-blanc.html?action=prod&id=840', 'https://www.goldenscent.com/en/p/tom-ford-black-orchid.html?action=prod&id=1112', 'https://www.goldenscent.com/en/p/the-finest-rose-eau-de-parfum-for-men-and-women-45141.html?action=prod&id=45141']\n"
     ]
    }
   ],
   "source": [
    "import selenium\n",
    "from selenium import webdriver \n",
    "from selenium.webdriver.common.by import By\n",
    "from selenium.webdriver.support.ui import WebDriverWait\n",
    "from selenium.webdriver.support import expected_conditions as EC\n",
    "\n",
    "\n",
    "path = \"C:/Users/hmq4/OneDrive/Desktop/Data Science- Misk/chrome/chromedriver.exe\"\n",
    "driver = webdriver.Chrome(path)\n",
    "driver.get(\"https://www.goldenscent.com/en/c/fragrances.html?action=cat&id=3\")\n",
    "\n",
    "def details(x):\n",
    "    details_dict = {\n",
    "        \"name\": name ,\n",
    "        \"price\": price,\n",
    "        \"rate\": rate, \n",
    "        \"brand\": brand,\n",
    "        \"Gender\": Gender,\n",
    "        \"productType\": productType,\n",
    "        \"fragrance_family\": fragrance_family,\n",
    "        \"character\": character,\n",
    "        \"ingredients\": ingredients,\n",
    "        \"concentration\": concentration,\n",
    "        \"Top_note\": Top_note,\n",
    "        \"Middle_note\": Middle_note,\n",
    "        \"Base_note\": Base_note,\n",
    "        \"year\": year,\n",
    "        \"size\":size\n",
    "    } \n",
    "\n",
    "#perfume 1 : Magam \n",
    "productlinks = driver.find_elements(By.CLASS_NAME, 'ais-InfiniteHits-item.col-xs-6.col-md-4.flex')\n",
    "links = []\n",
    "for i in productlinks:\n",
    "    url = i.find_element(By.CLASS_NAME ,'block.no-underline.product-link').get_property('href')\n",
    "    links.append(url)\n",
    "print(links)\n",
    "\n"
   ]
  },
  {
   "cell_type": "code",
   "execution_count": 3,
   "metadata": {},
   "outputs": [
    {
     "name": "stderr",
     "output_type": "stream",
     "text": [
      "C:\\Users\\hmq4\\AppData\\Local\\Temp\\ipykernel_5928\\1008664711.py:3: DeprecationWarning: executable_path has been deprecated, please pass in a Service object\n",
      "  url = webdriver.Chrome(path)\n"
     ]
    },
    {
     "name": "stdout",
     "output_type": "stream",
     "text": [
      "[('Maqam Al Shoyoukh EDP - 120 ml', '700 SAR', '5', 'Maqam', 'Unisex', 'Perfume', 'Floral Oriental', 'Sensual', 'Valerian, Lactonic (Milky), Fruity (Red Apple), Rose, Moroccan Jasmine, Lily, Amber, Woody (Virginia Cedarwood), Caramel, Musk', 'Eau de Parfum', 'Valerian, Lactonic (Milky), Fruity (Red Apple)', 'Rose, Moroccan Jasmine, Lily', 'Amber, Woody (Virginia Cedarwood), Caramel, Musk', '120 ml', '2021'), ('Guerlain Santal Royal Guerlain', '862 SAR', 'none', 'Maqam', 'Unisex', 'Perfume', 'Floral Oriental', 'Sensual', 'Valerian, Lactonic (Milky), Fruity (Red Apple), Rose, Moroccan Jasmine, Lily, Amber, Woody (Virginia Cedarwood), Caramel, Musk', 'Eau de Parfum', 'Valerian, Lactonic (Milky), Fruity (Red Apple)', 'Rose, Moroccan Jasmine, Lily', 'Amber, Woody (Virginia Cedarwood), Caramel, Musk', '120 ml', '2021'), ('Tom Ford Noir Extreme', '759 SAR', 'none', 'Maqam', 'Unisex', 'Perfume', 'Floral Oriental', 'Sensual', 'Valerian, Lactonic (Milky), Fruity (Red Apple), Rose, Moroccan Jasmine, Lily, Amber, Woody (Virginia Cedarwood), Caramel, Musk', 'Eau de Parfum', 'Valerian, Lactonic (Milky), Fruity (Red Apple)', 'Rose, Moroccan Jasmine, Lily', 'Amber, Woody (Virginia Cedarwood), Caramel, Musk', '120 ml', '2021'), ('Chopard Happy Spirit', '177 SAR', 'none', 'Maqam', 'Unisex', 'Perfume', 'Floral Oriental', 'Sensual', 'Valerian, Lactonic (Milky), Fruity (Red Apple), Rose, Moroccan Jasmine, Lily, Amber, Woody (Virginia Cedarwood), Caramel, Musk', 'Eau de Parfum', 'Valerian, Lactonic (Milky), Fruity (Red Apple)', 'Rose, Moroccan Jasmine, Lily', 'Amber, Woody (Virginia Cedarwood), Caramel, Musk', '120 ml', '2021'), ('Parfums de Marly Delina Hair Mist', '322 SAR', 'none', 'Maqam', 'Unisex', 'Perfume', 'Floral Oriental', 'Sensual', 'Valerian, Lactonic (Milky), Fruity (Red Apple), Rose, Moroccan Jasmine, Lily, Amber, Woody (Virginia Cedarwood), Caramel, Musk', 'Eau de Parfum', 'Valerian, Lactonic (Milky), Fruity (Red Apple)', 'Rose, Moroccan Jasmine, Lily', 'Amber, Woody (Virginia Cedarwood), Caramel, Musk', '120 ml', '2021'), ('Ajmal Raindrops', '46 SAR', 'none', 'Ajmal', 'Women', 'Perfume', 'Floral', 'Glamorous', 'Floral Notes , Woodsy Notes, Fruity Notes, Ambergris', 'Eau de Parfum', 'Valerian, Lactonic (Milky), Fruity (Red Apple)', 'Rose, Moroccan Jasmine, Lily', 'Amber, Woody (Virginia Cedarwood), Caramel, Musk', '120 ml', '2021'), ('Calvin Klein Euphoria Men Intense', '145 SAR', '4', 'Calvin Klein', 'Men', 'Perfume', 'Romantic', 'Perfume', '2008', 'ginger, hot pepper, warm cedar, smoky vetiver, savory sage, spicy black basil, myrrh, powerful labdanum, amber, somber earthy patchouli, musty agar wood', 'Eau de Toilette', 'ginger, hot pepper', 'warm cedar, smoky vetiver, savory sage, spicy black basil', 'Soft Oriental', '100 ml'), ('Dolce & Gabbana Pour Femme Intense', '269 SAR', '4.8', 'Dolce&Gabbana', 'Women', 'Perfume', 'Modern', 'Perfume', '2013', 'green mandarin, neroli, tuberose, orange blossom, marshmallow, sandalwood.', 'Eau de Parfum', 'Neroli, Green mandarin', 'Orange blossom, Tuberose', 'Floral Oriental', '50 ml'), ('Roberto Cavalli \"Roberto Cavalli\"', '129 SAR', '5', 'Roberto Cavalli', 'Women', 'Perfume', 'Floral Oriental', 'Modern', 'Pink pepper, African orange flower, benzoin, tonka bean, vanilla.', 'Eau de Parfum', 'Pink pepper', 'African orange flower,', 'benzoin, tonka bean, vanilla.', '50 ml', '2012'), ('Who Am I Just Fly EDP - 100 ml', '149 SAR', '4.92', 'Who Am I', 'Unisex', 'Perfume', 'Fruity,Woody', 'Natural', 'Grapefruit, Orris, Cedarwood', 'Eau de Parfum', 'Grapefruit', 'Orris', 'Cedarwood', '100 ml', '2019'), ('Jaguar Classic Black', '95 SAR', '3.5', 'Jaguar', 'Men', 'Perfume', 'Charismatic', 'Perfume', '2002', 'Green Apple, Tangerine, Orange,Cardamom, Nutmeg, Black Tea,Sandalwood, White Musk, Cedarwood', 'Eau de Toilette', 'Green Apple, Tangerine, Orange', 'Cardamom, Nutmeg, Black Tea', 'Oriental', '100 ml'), ('Dolce & Gabbana The One Mysterious Night', '374 SAR', '4.5', 'Dolce&Gabbana', 'Men', 'Perfume', 'Oriental', 'Charismatic', '2018', 'Saffron, Grapefruit, Rose, Oud, Sage, Amber, Woody Notes, Labdanum, Tonka Bean.', 'Eau de Parfum', 'Saffron, Grapefruit', 'Rose, Oud, Sage', 'Red,Gold', '100 ml'), ('Chopard Oud Malaki', '295 SAR', '4.88', 'Chopard', 'Unisex', 'Perfume', 'Glamorous', 'Oud', '2012', 'Grapefruit, Lavender, Artemisia, Leather, Spices, Tobacco, Amber, Dark Wood, Agarwood', 'Eau de Parfum', 'Grapefruit, lavender, artemisia', 'Leather, spices, tobacco', 'Oriental', '80 ml'), ('Lacoste Eau De Lacoste L.12.12 Blanc', '175 SAR', '4.6', 'Lacoste', 'Men', 'Perfume', 'Natural', 'Perfume', '2011', 'Grapefruit, Cardamom, Rosemary, Cedar Leaf, Tuberose Absolute, Olibanum Resinoid, Ylang-Ylang, Vetiver, Suede, Cedarwood, Georgywood', 'Eau de Toilette', 'Grapefruit, Cardamom, Rosemary, Cedar Leaf', 'Tuberose Absolute, Olibanum Resinoid, Ylang-Ylang', 'Aromatic', '100 ml'), ('Tom Ford Black Orchid', '381 SAR', '5', 'Tom Ford', 'Unisex', 'Perfume', 'Natural', 'Perfume', '2006', 'Jasmine, Black Truffle, Ylang-ylang, Black Currant, Citrus, Black Orchid, Patchouli, Sandalwood, Dark Chocolate, Incense, Amber, Vetiver, Vanilla, Balsam', 'Eau de Parfum', 'Jasmine, Black Truffle, Ylang-ylang, Black Currant, Citrus', 'Black Orchid', 'Woody', '100 ml'), ('The Finest Rose EDP - 100 ml', '249 SAR', 'none', 'The Finest', 'Unisex', 'Perfume', 'Floral', 'Romantic', 'Eau de Parfum', 'Saffron', 'Bulgarian Rose', 'Musk', 'Black Orchid', 'Woody', '100 ml')]\n"
     ]
    }
   ],
   "source": [
    "details=[]   \n",
    "for j in links:\n",
    "    url = webdriver.Chrome(path)\n",
    "    url.get(j)\n",
    "    try:       \n",
    "        name = url.find_element(By.XPATH , '//*[@id=\"pp-gallery-n-details-wrapper\"]/div/div/div[2]/div/div[1]/div/div[1]/h1').text\n",
    "        price = url.find_element(By.XPATH ,'//*[@id=\"pp-gallery-n-details-wrapper\"]/div/div/div[2]/div/div[2]/div/div/div[1]/div/div[1]/span[1]').text\n",
    "        rate = url.find_element(By.XPATH ,'//*[@id=\"pp-gallery-n-details-wrapper\"]/div/div/div[2]/div/div[1]/div/div[1]/div/span/span').text\n",
    "        brand = url.find_element(By.XPATH ,'//*[@id=\"section-info\"]/div/div/div[2]/ul/li[1]/div[2]').text\n",
    "        Gender = url.find_element(By.XPATH ,'//*[@id=\"section-info\"]/div/div/div[2]/ul/li[2]/div[2]').text\n",
    "        productType = url.find_element(By.XPATH ,'//*[@id=\"section-info\"]/div/div/div[2]/ul/li[3]/div[2]').text\n",
    "        fragrance_family= url.find_element(By.XPATH ,'//*[@id=\"section-info\"]/div/div/div[2]/ul/li[5]/div[2]').text\n",
    "        character = url.find_element(By.XPATH ,'//*[@id=\"section-info\"]/div/div/div[2]/ul/li[4]/div[2]').text\n",
    "        ingredients = url.find_element(By.XPATH ,'//*[@id=\"section-info\"]/div/div/div[2]/ul/li[8]/div[2]').text\n",
    "        concentration = url.find_element(By.XPATH ,'//*[@id=\"section-info\"]/div/div/div[2]/ul/li[9]/div[2]').text\n",
    "        Top_note = url.find_element(By.XPATH ,'//*[@id=\"section-info\"]/div/div/div[2]/ul/li[10]/div[2]').text\n",
    "        Middle_note = url.find_element(By.XPATH ,'//*[@id=\"section-info\"]/div/div/div[2]/ul/li[11]/div[2]').text\n",
    "        Base_note = url.find_element(By.XPATH ,'//*[@id=\"section-info\"]/div/div/div[2]/ul/li[12]/div[2]').text\n",
    "        year = url.find_element(By.XPATH ,'//*[@id=\"section-info\"]/div/div/div[2]/ul/li[7]/div[2]').text\n",
    "        size = url.find_element(By.XPATH ,'//*[@id=\"section-info\"]/div/div/div[2]/ul/li[6]/div[2]').text\n",
    "    except:\n",
    "        rate = \"none\"\n",
    "        \n",
    "    details.append((name, price, rate,brand, Gender,productType, fragrance_family,character,ingredients,concentration, Top_note, Middle_note, Base_note, size, year))\n",
    "print(details)\n",
    "\n",
    "    "
   ]
  },
  {
   "cell_type": "code",
   "execution_count": 5,
   "metadata": {},
   "outputs": [
    {
     "name": "stdout",
     "output_type": "stream",
     "text": [
      "Collecting pandas\n",
      "  Downloading pandas-1.4.1-cp310-cp310-win_amd64.whl (10.6 MB)\n",
      "Collecting pytz>=2020.1\n",
      "  Downloading pytz-2021.3-py2.py3-none-any.whl (503 kB)\n",
      "Requirement already satisfied: python-dateutil>=2.8.1 in c:\\users\\hmq4\\appdata\\roaming\\python\\python310\\site-packages (from pandas) (2.8.2)\n",
      "Collecting numpy>=1.21.0\n",
      "  Downloading numpy-1.22.2-cp310-cp310-win_amd64.whl (14.7 MB)\n",
      "Requirement already satisfied: six>=1.5 in c:\\users\\hmq4\\appdata\\roaming\\python\\python310\\site-packages (from python-dateutil>=2.8.1->pandas) (1.16.0)\n",
      "Installing collected packages: pytz, numpy, pandas\n",
      "Successfully installed numpy-1.22.2 pandas-1.4.1 pytz-2021.3\n"
     ]
    },
    {
     "name": "stderr",
     "output_type": "stream",
     "text": [
      "WARNING: You are using pip version 21.2.4; however, version 22.0.3 is available.\n",
      "You should consider upgrading via the 'C:\\Python310\\python.exe -m pip install --upgrade pip' command.\n"
     ]
    }
   ],
   "source": [
    "! pip install pandas"
   ]
  },
  {
   "cell_type": "code",
   "execution_count": 6,
   "metadata": {},
   "outputs": [],
   "source": [
    "import pandas as pd \n",
    "\n",
    "Perfume_Dataset =pd.DataFrame(details,columns=['Name', 'Price', 'Rating','Brand', 'Gender','ProductType', 'Fragrance_family','Character','Ingredients','Concentration', 'Top_note', 'Middle_note', 'Base_note', 'Size', 'Year'])\n",
    "Perfume_Dataset.to_csv('Perfume_Dataset.csv',index=False)"
   ]
  },
  {
   "cell_type": "code",
   "execution_count": null,
   "metadata": {},
   "outputs": [],
   "source": [
    "#perfume 1 : Magam\n",
    "url = webdriver.Chrome(path)\n",
    "url.get(\"https://www.goldenscent.com/en/p/maqam-maqam-al-shoyoukh-edp-120-ml-57043.html?action=prod&id=57043\")\n",
    "productlist = []\n",
    "#for i in productlinks:\n",
    "name = url.find_element(By.XPATH , '//*[@id=\"pp-gallery-n-details-wrapper\"]/div/div/div[2]/div/div[1]/div/div[1]/h1').text\n",
    "price = url.find_element(By.XPATH ,'//*[@id=\"pp-gallery-n-details-wrapper\"]/div/div/div[2]/div/div[2]/div/div/div[1]/div/div[1]/span[1]').text\n",
    "rate = url.find_element(By.XPATH ,'//*[@id=\"pp-gallery-n-details-wrapper\"]/div/div/div[2]/div/div[1]/div/div[1]/div/span/span').text\n",
    "brand = url.find_element(By.XPATH ,'//*[@id=\"section-info\"]/div/div/div[2]/ul/li[1]/div[2]').text\n",
    "Gender = url.find_element(By.XPATH ,'//*[@id=\"section-info\"]/div/div/div[2]/ul/li[2]/div[2]').text\n",
    "productType = url.find_element(By.XPATH ,'//*[@id=\"section-info\"]/div/div/div[2]/ul/li[3]/div[2]').text\n",
    "fragrance_family= url.find_element(By.XPATH ,'//*[@id=\"section-info\"]/div/div/div[2]/ul/li[5]/div[2]').text\n",
    "character = url.find_element(By.XPATH ,'//*[@id=\"section-info\"]/div/div/div[2]/ul/li[4]/div[2]').text\n",
    "ingredients = url.find_element(By.XPATH ,'//*[@id=\"section-info\"]/div/div/div[2]/ul/li[8]/div[2]').text\n",
    "concentration = url.find_element(By.XPATH ,'//*[@id=\"section-info\"]/div/div/div[2]/ul/li[9]/div[2]').text\n",
    "Top_note = url.find_element(By.XPATH ,'//*[@id=\"section-info\"]/div/div/div[2]/ul/li[10]/div[2]').text\n",
    "Middle_note = url.find_element(By.XPATH ,'//*[@id=\"section-info\"]/div/div/div[2]/ul/li[11]/div[2]').text\n",
    "Base_note = url.find_element(By.XPATH ,'//*[@id=\"section-info\"]/div/div/div[2]/ul/li[12]/div[2]').text\n",
    "year = url.find_element(By.XPATH ,'//*[@id=\"section-info\"]/div/div/div[2]/ul/li[7]/div[2]').text\n",
    "size = url.find_element(By.XPATH ,'//*[@id=\"section-info\"]/div/div/div[2]/ul/li[6]/div[2]').text\n",
    "\n",
    "\n",
    "\n",
    "details_dict = {\n",
    "        \"name\": name ,\n",
    "        \"price\": price,\n",
    "        \"rate\": rate, \n",
    "        \"brand\": brand,\n",
    "        \"Gender\": Gender,\n",
    "        \"productType\": productType,\n",
    "        \"fragrance_family\": fragrance_family,\n",
    "        \"character\": character,\n",
    "        \"ingredients\": ingredients,\n",
    "        \"concentration\": concentration,\n",
    "        \"Top_note\": Top_note,\n",
    "        \"Middle_note\": Middle_note,\n",
    "        \"Base_note\": Base_note,\n",
    "        \"year\": year,\n",
    "        \"size\":size\n",
    "    }\n",
    "\n",
    "\n",
    "print(details_dict)"
   ]
  }
 ],
 "metadata": {
  "interpreter": {
   "hash": "2be5faf79681da6f2a61fdfdd5405d65d042280f7fba6178067603e3a2925119"
  },
  "kernelspec": {
   "display_name": "Python 3.10.2 64-bit",
   "language": "python",
   "name": "python3"
  },
  "language_info": {
   "codemirror_mode": {
    "name": "ipython",
    "version": 3
   },
   "file_extension": ".py",
   "mimetype": "text/x-python",
   "name": "python",
   "nbconvert_exporter": "python",
   "pygments_lexer": "ipython3",
   "version": "3.10.2"
  },
  "orig_nbformat": 4
 },
 "nbformat": 4,
 "nbformat_minor": 2
}
